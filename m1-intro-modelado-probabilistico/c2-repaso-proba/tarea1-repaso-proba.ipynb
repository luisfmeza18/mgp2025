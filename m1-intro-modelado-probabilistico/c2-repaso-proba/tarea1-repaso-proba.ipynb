{
 "cells": [
  {
   "cell_type": "markdown",
   "metadata": {},
   "source": [
    "# Tarea 1. Repaso de teoría de probabilidad\n",
    "\n",
    "<img style=\"float: right; margin: 0px 0px 15px 15px;\" src=\"https://storage.needpix.com/rsynced_images/bayesian-2889576_1280.png\" width=\"200px\" height=\"180px\" />\n",
    "\n",
    "Esta constituye la primera tarea del curso. Las tareas están pensadas para que afiances los conocimientos vistos en clase, repases la clase y debas darle una segunda leida. Incluso revisar otro material.\n",
    "\n",
    "Esta primera tarea contiene ejercicios para que repases conceptos básicos de teoría de probabilidad.\n",
    "\n",
    "Por favor, intenta ser lo más explícit@ posible, y en lo posible, apóyate de la escritura matemática con $\\LaTeX$.\n",
    "\n",
    "Recuerda además que ante cualquier duda, me puedes contactar al correo esjimenezro@iteso.mx.\n",
    "\n",
    "<p style=\"text-align:right;\"> Imagen recuperada de: https://storage.needpix.com/rsynced_images/bayesian-2889576_1280.png.</p>\n",
    "\n",
    "___"
   ]
  },
  {
   "cell_type": "markdown",
   "metadata": {},
   "source": [
    "## 1. \n",
    "\n",
    "Supongamos que una prueba para la COVID-19 tiene una precisión del 95%. Esto es, si el paciente está infectado, entonces el resultado de la prueba será positivo con probabilidad de 0.95, y si el paciente NO está infectado, el resutado de la prueba será negativo con probabilidad de 0.95.\n",
    "\n",
    "Además, supongamos que la probabilidad de estar infectado es de 0.017 (1.7%).\n",
    "\n",
    "Ahora, suponga que una persona tuvo un resultado de prueba positivo.\n",
    "\n",
    "1. ¿Cuál es la probabilidad de que esta persona esté infectada en efecto?\n",
    "\n",
    "2. ¿Cuál es la probabilidad de que no esté infectada?"
   ]
  },
  {
   "cell_type": "markdown",
   "metadata": {},
   "source": [
    "#### **Planteamiento**\n",
    "Se tienen los siguientes datos:\n",
    "\n",
    "* $p(R=1|I=1) = p(R=0|I=0) = 0.95$\n",
    "* $p(I=1) = 0.017$\n",
    "\n",
    "Donde:\n",
    "\n",
    "$R$: Resultado de la prueba = $\\{0, 1\\}$\n",
    "\n",
    "$I$: Infeccion de COVID-19 = $\\{0, 1\\}$\n",
    "\n",
    "**1.** La probabilidad de que una persona esté infectada sabiendo que el resultado de la prueba fue positivo es igual a la probabilidad $p(I=1|R=1)$. Utilizando la regla de Bayes podemos calcular dicha probabilidad de la siguiente manera:\n",
    "$$p(I=1|R=1)=\\frac{p(R=1|I=1)\\cdot p(I=1)}{p(R=1)}$$\n",
    "Se conocen 2 de los 3 factores que contiene la formula. Sin embargo, se puede utilizar la **regla de probabilidad total** para calcular el valor de $P(R=1)$ como:\n",
    "$$p(R=1) = p(R=1|I=0)\\cdot p(I=0) + p(R=1|I=1)\\cdot p(I=1)$$\n",
    "\n",
    "El valor de $p(R=1|I=0)$ es el complemento de $p(R=0|I=0)$, es decir: $p(R=1|I=0) = 1 - 0.95 = 0.05$\n",
    "\n",
    "El valor de $p(I=0)$ es el complemento de $p(I=1)$, es decir: $p(I=0)=1 - 0.017=0.983$\n",
    "\n",
    "Sustiyendo en $p(R=1)$:\n",
    "$$p(R=1)=(0.05)(0.983)+(0.95)(0.017) = 0.0653$$\n",
    "\n",
    "Sustituyendo en $p(I=1|R=1)$ finalmente llegamos a la respuesta:\n",
    "$$p(I=1|R=1)=\\frac{(0.95)(0.017)}{0.0653}=\\boxed{0.2473}$$"
   ]
  },
  {
   "cell_type": "markdown",
   "metadata": {},
   "source": [
    "**2.** La probabilidad de que la persona no esté infectada en el mismo escenario es igual al complemento del caso anterior, es decir:\n",
    "$$p(I=0|R=1)=1-0.2473=0.7527$$\n",
    "Si se calcula como en el caso anterior deberiamos llegar al mismo resultado:\n",
    "\n",
    "Por regla de Bayes:\n",
    "$$p(I=0|R=1)=\\frac{p(R=1|I=0)\\cdot p(I=0)}{p(R=1)}$$\n",
    "Donde:\n",
    "$$p(R=1) = p(R=1|I=0)\\cdot p(I=0) + p(R=1|I=1)\\cdot p(I=1)=(0.05)(0.983)+(0.95)(0.017) = 0.0653$$\n",
    "$$p(I=0)=1 - 0.017=0.983$$\n",
    "$$p(R=1|I=0) = 1-0.95 = 0.05$$\n",
    "\n",
    "$$p(I=0|R=1)=\\frac{(0.05)(0.983)}{0.0653}=\\boxed{0.7527}$$\n"
   ]
  },
  {
   "cell_type": "markdown",
   "metadata": {},
   "source": [
    "## 2. \n",
    "\n",
    "(Ejercicio 1.3 Pattern Recognition and Machine Learning, by Christopher M. Bishop.) \n",
    "\n",
    "Supongamos que tenemos tres cajas: $r$ (roja), $a$ (azul), y $v$ (verde). Los contenidos de las cajas son:\n",
    "\n",
    "- $r$: 3 manzanas, 4 naranjas, y 3 limas.\n",
    "- $a$: 1 manzanas, 1 naranjas, y 0 limas.\n",
    "- $v$: 3 manzanas, 3 naranjas, y 4 limas\n",
    "\n",
    "Si la caja se elige aleatoriamente con probabilidades $p(r) = 0.2$, $p(b) = 0.2$, $p(g) = 0.6$, y una fruta se selecciona de la caja elegida, con igual probabilidad de seleccionar cualquier elemento de la caja, \n",
    "\n",
    "1. ¿Cuál es la probabilida de seleccionar una manzana?\n",
    "2. Si observamos que la fruta seleccionada es una naranja, ¿Cuál es la probabilidad de que provenga de la caja verde?"
   ]
  },
  {
   "cell_type": "markdown",
   "metadata": {},
   "source": [
    "#### **Planteamiento**\n",
    "\n",
    "Se tienen los siguientes datos:\n",
    "* $p(C=r)=0.2,\\,\\,\\, p(C=b)=0.2, \\,\\,\\, p(C=g)=0.6$\n",
    "* $N_r=10, N_b=2, N_v=10$\n",
    "\n",
    "* $p(F=m|C=r)=\\frac{3}{10}=0.3, \\,\\,\\, p(F=n|C=r)=\\frac{4}{10}=0.4, \\,\\,\\, p(F=l|C=r)=\\frac{3}{10}=0.3$\n",
    "\n",
    "* $p(F=m|C=b)=\\frac{1}{2}=0.5, \\,\\,\\, p(F=n|C=b)=\\frac{1}{2}=0.5, \\,\\,\\, p(F=l|C=b)=\\frac{0}{2}=0$\n",
    "\n",
    "* $p(F=m|C=g)=\\frac{3}{10}=0.3, \\,\\,\\, p(F=n|C=g)=\\frac{3}{10}=0.3, \\,\\,\\, p(F=l|C=g)=\\frac{4}{10}=0.4$\n",
    "\n",
    "Donde:\n",
    "\n",
    "$F$: Fruta tomada de alguna caja = $\\{m, n, l\\}$\n",
    "\n",
    "$C$: Caja seleccionada = $\\{r, b, g\\}$\n",
    "\n",
    "\n",
    "\n",
    "\n",
    "\n",
    "\n",
    "\n"
   ]
  },
  {
   "cell_type": "markdown",
   "metadata": {},
   "source": [
    "**1.** La probabilidad de seleccionar una manzana independientemente de la caja seleccionada es igual a $p(F=m)$ y se puede calcular con la **regla de la probabilidad total** como:\n",
    "\n",
    "$$p(F=m)=p(F=m|C=r)p(C=r)+p(F=m|C=b)p(C=b)+p(F=m|C=g)p(C=g)$$\n",
    "$$p(F=m)=(0.3)(0.2)+(0.5)(0.2)+(0.3)(0.6)=\\boxed{0.34}$$"
   ]
  },
  {
   "cell_type": "markdown",
   "metadata": {},
   "source": [
    "**2.** Sabiendo que se seleccionó una naranja, la probabilidad que haya venido de la caja verde es igual a:\n",
    "$$p(C=g|F=n)=\\frac{p(F=n|C=g)\\cdot p(C=g)}{p(F=n)}$$\n",
    "\n",
    "La probabilidad de que la fruta seleccionada sea una naranja es igual a:\n",
    "$$p(F=n)=p(F=n|C=r)p(C=r)+p(F=n|C=b)p(C=b)+p(F=n|C=g)p(C=g)$$\n",
    "$$p(F=n)=(0.4)(0.2)+(0.5)(0.2)+(0.3)(0.6)=0.36$$\n",
    "\n",
    "Sustituyendo en la probabilidad $p(C=g|F=n)$ se llega al resultado:\n",
    "$$p(C=g|F=n)=\\frac{(0.3)(0.6)}{0.36}=\\boxed{0.5}$$"
   ]
  },
  {
   "cell_type": "markdown",
   "metadata": {},
   "source": [
    "## 3.\n",
    "\n",
    "Leer la **sección 1.2.4. (The Gaussian distribution)** del libro Pattern Recognition and Machine Learning, by Christopher M. Bishop, las páginas 24 y 25 . A partir de ello:\n",
    "\n",
    "1. ¿Cuáles son los parámetros que caracterizan una distribución Gaussiana?, ¿Qué significan?\n",
    "   \n",
    "2. Define una V.A. normal usando `scipy.stats.norm`, con media y varianza que prefieras:\n",
    "   \n",
    "   ```python\n",
    "   x = stats.norm(loc=mu, scale=sigma)\n",
    "   ```\n",
    "   \n",
    "   Luego, muestrea 10, 100, 1000, y 10000 veces esta V.A. usando el método `rvs`:\n",
    "   \n",
    "   ```python\n",
    "   samples = x.rvs(n)\n",
    "   ```\n",
    "   \n",
    "   Finalmente, toma el promedio simple de cada uno de los conjuntos de muestras:\n",
    "   \n",
    "   ```python\n",
    "   samples.mean()\n",
    "   ```\n",
    "   \n",
    "   ¿Qué puedes concluir del efecto de la cantidad de las muestras sobre este promedio?"
   ]
  },
  {
   "cell_type": "markdown",
   "metadata": {},
   "source": [
    "#### **Planteamiento**\n",
    "\n",
    "**1.** Los parámetros que caracterizan a una distribución Gaussiana son $\\mu$ y $\\sigma^2$ y reciben el nombre de media y varianza, respectivamente.\n",
    "\n",
    "El valor esperado de $x$ proveniente de una distribución Gaussiana es igual a $\\mu$, por eso recibe el nombre de media.\n",
    "$$\\mathbb{E}[x] = \\int_{-\\infty}^{\\infty} \\mathcal{N} (x|\\mu , \\sigma^2) \\, x \\, dx = \\mu$$\n",
    "\n",
    "De forma similar, la varianza de $x$ es igual a $\\sigma^2$:\n",
    "$$\\text{Var}[x]= \\mathbb{E}[x^2]-\\mathbb{E}[x]^2=\\sigma^2$$\n"
   ]
  },
  {
   "cell_type": "markdown",
   "metadata": {},
   "source": [
    "**2.** "
   ]
  },
  {
   "cell_type": "code",
   "execution_count": 1,
   "metadata": {},
   "outputs": [
    {
     "name": "stdout",
     "output_type": "stream",
     "text": [
      "*****************************************\n",
      "     Media con 10 muestras = 4.926767\n",
      "     Media con 100 muestras = 4.727359\n",
      "     Media con 1000 muestras = 5.010022\n",
      "     Media con 10000 muestras = 5.027825\n"
     ]
    }
   ],
   "source": [
    "from scipy.stats import norm, rv_discrete\n",
    "\n",
    "dist_mean = 5\n",
    "dist_var = 1.5\n",
    "\n",
    "x = norm(loc = dist_mean, scale = dist_var)\n",
    "\n",
    "sampling = [10, 100, 1000, 10000]\n",
    "rvs_array = [x.rvs(size = sample_num) for sample_num in sampling]\n",
    "sample_means = [data.mean() for data in rvs_array]\n",
    "\n",
    "print(\"*****************************************\")\n",
    "for smp, mean in zip(sampling, sample_means):\n",
    "    print(f\"     Media con {smp} muestras = {round(mean, 6)}\")\n"
   ]
  },
  {
   "cell_type": "markdown",
   "metadata": {},
   "source": [
    "En este caso se puede observar que si la cantidad de muestras tiende a un número cada vez más grande, el promedio se va aproximando a la media de la distribución Gaussiana."
   ]
  },
  {
   "cell_type": "markdown",
   "metadata": {},
   "source": [
    "# 4.\n",
    "\n",
    "Es común que haya cierta confusión en el significado del valor esperado. Un significado que le podemos dar a este valor, viene dado por la [ley de los grandes números](https://www.khanacademy.org/math/statistics-probability/random-variables-stats-library/expected-value-lib/v/law-of-large-numbers), que básicamente dice que:\n",
    "\n",
    "$$\n",
    "\\mathbb{E}_p[f] \\to \\frac{1}{N} \\sum_{i=1}^N f(x_i), \\text{ cuando } N \\to \\infty\n",
    "$$"
   ]
  },
  {
   "cell_type": "markdown",
   "metadata": {},
   "source": [
    "Para convencerte de esto, en este ejercicio simularás la tirada de un dado justo:\n",
    "\n",
    "1. Definimos la VA $X$ como el valor que muestra el dado cuando cae, es decir $\\mathrm{Val}(X) = \\{1, 2, 3, 4, 5, 6\\}$.\n",
    "2. Como el dado es justo $P(X=i)=\\frac{1}{|\\mathrm{Val}(X)|}=\\frac{1}{6}$ para todo $i=1,\\dots,6$.\n",
    "\n",
    "¿Cuál es el valor esperado $E[X]$?"
   ]
  },
  {
   "cell_type": "code",
   "execution_count": 2,
   "metadata": {},
   "outputs": [],
   "source": [
    "x_vals = [i for i in range(1, 7)]\n",
    "x_prob = [1/6 for _ in range(len(x_vals))]\n",
    "\n",
    "x = rv_discrete(values=(x_vals, x_prob))"
   ]
  },
  {
   "cell_type": "code",
   "execution_count": 18,
   "metadata": {},
   "outputs": [
    {
     "data": {
      "text/plain": [
       "3"
      ]
     },
     "execution_count": 18,
     "metadata": {},
     "output_type": "execute_result"
    }
   ],
   "source": [
    "x.rvs()"
   ]
  },
  {
   "cell_type": "code",
   "execution_count": 19,
   "metadata": {},
   "outputs": [
    {
     "name": "stdout",
     "output_type": "stream",
     "text": [
      "El valor esperado de x es: 3.5\n"
     ]
    }
   ],
   "source": [
    "# Calcular el valor esperado teórico de la VA X\n",
    "ExpectVal = x.expect()\n",
    "\n",
    "print(f\"El valor esperado de x es: {ExpectVal}\")"
   ]
  },
  {
   "cell_type": "markdown",
   "metadata": {},
   "source": [
    "Ahora, viene el paso de simulación. \n",
    "\n",
    "1. Vas a simular por lo menos 1000 veces la tirada del dado, guardando a cada tirada el resultado obtenido.\n",
    "\n",
    "2. Vas a calcular el valor promedio de los resultados *a cada tirada*. Es decir, si los resultados en las primeras $n$ tiradas son $x_1,\\dots,x_n$, el valor promedio en la tirada $n$ es\n",
    "\n",
    "   $$\\bar{x}_n = \\frac{x_1+\\dots+x_n}{n}.$$\n",
    "\n",
    "3. Finalmente, vas a graficar los valores promedio obtenidos a cada tirada (en el eje $y$) vs. el número de tiradas (en el eje $x$). Incluir el valor esperado teórico en la gráfica. ¿Qué observas?\n",
    "\n",
    "*Ayuda: apoyarse del modulo random de numpy.*"
   ]
  },
  {
   "cell_type": "code",
   "execution_count": 62,
   "metadata": {},
   "outputs": [],
   "source": [
    "# Simular 1000 veces\n",
    "import numpy as np\n",
    "import matplotlib.pyplot as plt\n",
    "\n",
    "N_tiros = 500\n",
    "trials = np.random.randint(5, 10, size = N_tiros)"
   ]
  },
  {
   "cell_type": "code",
   "execution_count": 63,
   "metadata": {},
   "outputs": [],
   "source": [
    "# Calcular el valor promedio de los resultados a cada tirada\n",
    "avg_trials = [trials[0:i+1].mean() for i in range(N_tiros)]"
   ]
  },
  {
   "cell_type": "code",
   "execution_count": 64,
   "metadata": {},
   "outputs": [
    {
     "data": {
      "image/png": "[encoded data removed]",
      "text/plain": [
       "<Figure size 640x480 with 1 Axes>"
      ]
     },
     "metadata": {},
     "output_type": "display_data"
    }
   ],
   "source": [
    "tiros = np.linspace(0, N_tiros, N_tiros, dtype=int)\n",
    "media = np.array(avg_trials)\n",
    "plt.plot(tiros, media, label=\"Media muestral\")\n",
    "plt.axline((0,trials.mean()),(N_tiros, trials.mean()), c='r', ls='--', label=\"Media de la distribución\")\n",
    "plt.xlabel(\"Cantidad de tiros\")\n",
    "plt.ylabel(\"Promedio\")\n",
    "plt.title(\"Promedio por tiros\")\n",
    "plt.legend()\n",
    "plt.grid(ls=\"--\")\n",
    "plt.show()"
   ]
  },
  {
   "cell_type": "markdown",
   "metadata": {},
   "source": [
    "# 5.\n",
    "\n",
    "[Lectura recomendada](https://ocw.mit.edu/courses/18-05-introduction-to-probability-and-statistics-spring-2022/mit18_05_s22_class06-prep-b.pdf)"
   ]
  },
  {
   "cell_type": "markdown",
   "metadata": {},
   "source": [
    "<script>\n",
    "  $(document).ready(function(){\n",
    "    $('div.prompt').hide();\n",
    "    $('div.back-to-top').hide();\n",
    "    $('nav#menubar').hide();\n",
    "    $('.breadcrumb').hide();\n",
    "    $('.hidden-print').hide();\n",
    "  });\n",
    "</script>\n",
    "\n",
    "<footer id=\"attribution\" style=\"float:right; color:#808080; background:#fff;\">\n",
    "Created with Jupyter by Esteban Jiménez Rodríguez.\n",
    "</footer>"
   ]
  }
 ],
 "metadata": {
  "kernelspec": {
   "display_name": "base",
   "language": "python",
   "name": "python3"
  },
  "language_info": {
   "codemirror_mode": {
    "name": "ipython",
    "version": 3
   },
   "file_extension": ".py",
   "mimetype": "text/x-python",
   "name": "python",
   "nbconvert_exporter": "python",
   "pygments_lexer": "ipython3",
   "version": "3.12.7"
  }
 },
 "nbformat": 4,
 "nbformat_minor": 4
}
