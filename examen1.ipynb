{
 "cells": [
  {
   "cell_type": "markdown",
   "metadata": {},
   "source": [
    "# Examen 1 - Modelos Gráficos Probabilísticos\n",
    "\n",
    "![](https://upload.wikimedia.org/wikipedia/commons/1/18/Bayes%27_Theorem_MMB_01.jpg)"
   ]
  },
  {
   "cell_type": "markdown",
   "metadata": {},
   "source": [
    "## 1. Sobreventa en aerolíneas (50 puntos)\n",
    "\n",
    "Supongamos que usted es la (el) encargad@ de la estrategia comercial de una aerolínea. Dado que las cancelaciones en los boletos y los pasajeros que no se presentan el día del vuelo es un asunto bastante recurrente, usted se plantea sobrevender los vuelos. La idea de la sobreventa es simple:\n",
    "\n",
    "> Vendemos más boletos de los que en realidad tenemos capacidad, esperando que después de las cancelaciones, las personas que se presenten el día del vuelo coincidan con el número de asientos disponibles del avión.\n",
    "\n",
    "Para simplificar un poco todo el problema, consideremos un vuelo arbitrario. Dada la naturaleza de este problema, se tiene gran incertidumbre en **cuantas personas se presentarán el día del vuelo**, por lo que usaremos un modelo probabilístico para modelar esta situación. Supongamos que:\n",
    "\n",
    "- Nuestro avión tiene una capacidad $C$ de asientos.\n",
    "- La demanda es lo suficientemente alta como para que todos los boletos que ponemos a la venta $B$ se vendan. En una estrategia de sobreventa, $B > C$.\n",
    "- La probabilidad de que una persona arbitraria se presente al vuelo es $\\theta$.\n",
    "- El número de personas que se presentan al vuelo es $X$.\n",
    "\n",
    "Con lo anterior, podemos modelar la variable aleatoria $X$ del número de personas que se presentan al vuelo como una distribución $\\text{Binomial}(B, \\theta)$. Es decir, la probabilidad de que se presenten $i$ personas al vuelo es:\n",
    "\n",
    "$$\n",
    "p(X = i) = \\left(\\begin{array}{c}B \\\\ i \\end{array}\\right) \\theta^i (1 - \\theta)^{B-i}.\n",
    "$$\n",
    "\n",
    "Con estas definiciones, podemos hablar también en términos de negocio. Por ejemplo, ¿cuál sería el costo de la sobreventa?\n",
    "\n",
    "Simplificando nuevamente el problema, supongamos que la tarifa de cada boleto es $T$ y es la misma para todos los $B$ boletos. Supongamos que en el caso de que una persona se presente al vuelo, y no pueda abordar, le devolvemos su dinero (o equivalentemente lo abordamos en el siguiente vuelo disponible) más $k$ veces el costo del boleto, es decir $(k + 1) T$. Entonces, los costos por sobreventa son:\n",
    "\n",
    "$$\n",
    "c_{ob} = T (k + 1) \\max(X - C, 0)\n",
    "$$\n",
    "\n",
    "Finalmente, los ingresos del vuelo descontando los costos por sobreventa son:\n",
    "\n",
    "$$\n",
    "I = T B - T (k + 1) \\max(X - C, 0).\n",
    "$$"
   ]
  },
  {
   "cell_type": "markdown",
   "metadata": {},
   "source": [
    "### 1.1. (25 puntos) Máxima verosimilitud\n",
    "\n",
    "1. (8 puntos) Supongamos que tenemos un avión con capacidad de $C=200$ pasajeros, y hacemos una sobreventa de $B=220$ boletos. Al vuelo se presentan $208$ personas. Bajo estas condiciones, ¿Cuál es el estimador de máxima verosimilitud para $\\theta$?"
   ]
  },
  {
   "cell_type": "markdown",
   "metadata": {},
   "source": []
  },
  {
   "cell_type": "markdown",
   "metadata": {},
   "source": []
  },
  {
   "cell_type": "markdown",
   "metadata": {},
   "source": []
  },
  {
   "cell_type": "markdown",
   "metadata": {},
   "source": [
    "2. (7 puntos) Graficar la pmf $\\text{Binomial}(B, \\theta)$ con $B=220$ boletos y la $\\theta$ estimada en el punto anterior."
   ]
  },
  {
   "cell_type": "code",
   "execution_count": null,
   "metadata": {},
   "outputs": [],
   "source": []
  },
  {
   "cell_type": "code",
   "execution_count": null,
   "metadata": {},
   "outputs": [],
   "source": []
  },
  {
   "cell_type": "code",
   "execution_count": null,
   "metadata": {},
   "outputs": [],
   "source": []
  },
  {
   "cell_type": "markdown",
   "metadata": {},
   "source": [
    "3. (10 puntos) Considerando una tarifa $T=1000$, y que por cada pasajero que se presente y sea dejado fuera del vuelo devolvemos una vez la tarifa $k=1$, ¿Cuál sería el costo por sobreventa?, ¿Cuál sería el ingreso descontando dicho costo?, ¿En retrospectiva, habrías ofertado una sobreventa menor?"
   ]
  },
  {
   "cell_type": "code",
   "execution_count": null,
   "metadata": {},
   "outputs": [],
   "source": []
  },
  {
   "cell_type": "markdown",
   "metadata": {},
   "source": []
  },
  {
   "cell_type": "markdown",
   "metadata": {},
   "source": [
    "### 1.2. (25 puntos) Selección de previas\n",
    "\n",
    "Alejándonos un poco del punto anterior, queremos hacer una modelación Bayesiana. Para esto debemos seleccionar una distribución previa adecuada, dependiendo del conocimiento previo que tengamos acerca de la probabilidad de que una persona se presente en el vuelo $\\theta$.\n",
    "\n",
    "1. (15 puntos) Supongamos que, en principio, no tenemos información alguna sobre $\\theta$.\n",
    "   - ¿Qué previa modela esta situación?\n",
    "   - Supongamos que tenemos un avión con capacidad de $C=200$ pasajeros, y hacemos una sobreventa de $B=220$ boletos. Al vuelo se presentan $207$ personas. Utilice una tabla de actualización Bayesiana para encontrar la distribución posterior de $\\theta$.\n",
    "   - Graficar la previa y la posterior.\n",
    "   - Considerando una tarifa $T=1000$, y que por cada pasajero que se presente y sea dejado fuera del vuelo devolvemos una vez la tarifa $k=1$, ¿Cuál sería el costo por sobreventa?, ¿Cuál sería el ingreso descontando dicho costo?, ¿En retrospectiva, habrías ofertado una sobreventa menor?"
   ]
  },
  {
   "cell_type": "markdown",
   "metadata": {},
   "source": []
  },
  {
   "cell_type": "markdown",
   "metadata": {},
   "source": []
  },
  {
   "cell_type": "markdown",
   "metadata": {},
   "source": []
  },
  {
   "cell_type": "code",
   "execution_count": null,
   "metadata": {},
   "outputs": [],
   "source": []
  },
  {
   "cell_type": "code",
   "execution_count": null,
   "metadata": {},
   "outputs": [],
   "source": []
  },
  {
   "cell_type": "markdown",
   "metadata": {},
   "source": [
    "2. (20 puntos) Usando la posterior del punto anterior como previa, supongamos ahora que hacemos una sobreventa de $B=215$ boletos, y se presentan $198$ personas.\n",
    "   - Utilice una tabla de actualización Bayesiana para encontrar la distribución posterior de $\\theta$.\n",
    "   - Graficar la previa y la posterior.\n",
    "   - Considerando una tarifa $T=1000$, y que por cada pasajero que se presente y sea dejado fuera del vuelo devolvemos una vez la tarifa $k=1$, ¿Cuál sería el costo por sobreventa?, ¿Cuál sería el ingreso descontando dicho costo?, ¿En retrospectiva, habrías ofertado una sobreventa menor?"
   ]
  },
  {
   "cell_type": "markdown",
   "metadata": {},
   "source": []
  },
  {
   "cell_type": "markdown",
   "metadata": {},
   "source": []
  },
  {
   "cell_type": "markdown",
   "metadata": {},
   "source": []
  },
  {
   "cell_type": "code",
   "execution_count": null,
   "metadata": {},
   "outputs": [],
   "source": []
  },
  {
   "cell_type": "code",
   "execution_count": null,
   "metadata": {},
   "outputs": [],
   "source": []
  },
  {
   "cell_type": "markdown",
   "metadata": {},
   "source": [
    "## 2. Regresión lineal Bayesiana (50 puntos)\n",
    "\n",
    "Considere el dataset de [Abalone](https://archive.ics.uci.edu/dataset/1/abalone).\n",
    "\n",
    "![](https://live.staticflickr.com/1617/23572255964_84b6472789_b.jpg)\n",
    "\n",
    "> La edad del abulón se determina cortando la concha a través del cono, tiñéndola y contando el número de anillos a través de un microscopio, una tarea aburrida y que consume mucho tiempo. Se utilizan otras mediciones, que son más fáciles de obtener, para predecir la edad. Puede ser necesaria información adicional, como patrones climáticos y ubicación (y por lo tanto disponibilidad de alimentos) para resolver el problema.\n",
    "\n",
    "> De los datos originales se eliminaron los ejemplos con valores faltantes (la mayoría con el valor predicho faltante), y los rangos de los valores continuos se han escalado para su uso con modelos matemáticos (dividiéndolos por 200).\n",
    "\n",
    "Dataset de Abalone:\n",
    "Nash, W., Sellers, T., Talbot, S., Cawthorn, A., & Ford, W. (1994). Abalone [Dataset]. UCI Machine Learning Repository. https://doi.org/10.24432/C55C7W.\n",
    "\n",
    "### 2.1. (10 puntos)\n",
    "\n",
    "Lleve a cabo un análisis exploratorio de datos, donde explore potenciales relaciones entre las variables y la variable objetivo (Edad: Rings + 1.5)."
   ]
  },
  {
   "cell_type": "code",
   "execution_count": null,
   "metadata": {},
   "outputs": [],
   "source": []
  },
  {
   "cell_type": "code",
   "execution_count": null,
   "metadata": {},
   "outputs": [],
   "source": []
  },
  {
   "cell_type": "code",
   "execution_count": null,
   "metadata": {},
   "outputs": [],
   "source": []
  },
  {
   "cell_type": "code",
   "execution_count": null,
   "metadata": {},
   "outputs": [],
   "source": []
  },
  {
   "cell_type": "code",
   "execution_count": null,
   "metadata": {},
   "outputs": [],
   "source": []
  },
  {
   "cell_type": "markdown",
   "metadata": {},
   "source": [
    "### 2.2. (10 puntos)\n",
    "\n",
    "Usaremos un modelo lineal para la tarea de predicción. Puedes incluir características no lineales en tu modelo (polinomiales o cualquier función). Recuerda que el nombre \"lineal\" vine por la relación con los parámetros.\n",
    "\n",
    "Describir el modelo usando el lenguaje probabilístico visto en clase. Asegurarse, mediante una simulación predictiva previa que las previas son plausibles."
   ]
  },
  {
   "cell_type": "markdown",
   "metadata": {},
   "source": []
  },
  {
   "cell_type": "markdown",
   "metadata": {},
   "source": []
  },
  {
   "cell_type": "markdown",
   "metadata": {},
   "source": []
  },
  {
   "cell_type": "markdown",
   "metadata": {},
   "source": []
  },
  {
   "cell_type": "markdown",
   "metadata": {},
   "source": []
  },
  {
   "cell_type": "markdown",
   "metadata": {},
   "source": [
    "### 2.3. (10 puntos)\n",
    "\n",
    "Dividir los datos en datos de entrenamiento, y datos de prueba.\n",
    "\n",
    "Con los datos de entrenamiento, encontrar la distribución posterior de los parámetros. ¿Qué puede concluir de cada uno de ellos?"
   ]
  },
  {
   "cell_type": "code",
   "execution_count": null,
   "metadata": {},
   "outputs": [],
   "source": []
  },
  {
   "cell_type": "code",
   "execution_count": null,
   "metadata": {},
   "outputs": [],
   "source": []
  },
  {
   "cell_type": "code",
   "execution_count": null,
   "metadata": {},
   "outputs": [],
   "source": []
  },
  {
   "cell_type": "code",
   "execution_count": null,
   "metadata": {},
   "outputs": [],
   "source": []
  },
  {
   "cell_type": "code",
   "execution_count": null,
   "metadata": {},
   "outputs": [],
   "source": []
  },
  {
   "cell_type": "markdown",
   "metadata": {},
   "source": [
    "### 2.4. (10 puntos)\n",
    "\n",
    "Seleccione una de las instancias del conjunto de prueba.\n",
    "\n",
    "Para dicha instancia y según tu modelo, ¿Cuál es la distribución de la edad promedio de dicho abalón?, ¿Qué tan lejos está de la edad real?"
   ]
  },
  {
   "cell_type": "code",
   "execution_count": null,
   "metadata": {},
   "outputs": [],
   "source": []
  },
  {
   "cell_type": "code",
   "execution_count": null,
   "metadata": {},
   "outputs": [],
   "source": []
  },
  {
   "cell_type": "code",
   "execution_count": null,
   "metadata": {},
   "outputs": [],
   "source": []
  },
  {
   "cell_type": "code",
   "execution_count": null,
   "metadata": {},
   "outputs": [],
   "source": []
  },
  {
   "cell_type": "code",
   "execution_count": null,
   "metadata": {},
   "outputs": [],
   "source": []
  },
  {
   "cell_type": "markdown",
   "metadata": {},
   "source": [
    "### 2.5. (10 puntos)\n",
    "\n",
    "Genere una muestra posterior predictiva usando los datos de prueba.\n",
    "\n",
    "Con esta información, genere una gráfica posterior predictiva para su modelo. ¿Qué puede concluir?"
   ]
  },
  {
   "cell_type": "code",
   "execution_count": null,
   "metadata": {},
   "outputs": [],
   "source": []
  },
  {
   "cell_type": "code",
   "execution_count": null,
   "metadata": {},
   "outputs": [],
   "source": []
  },
  {
   "cell_type": "code",
   "execution_count": null,
   "metadata": {},
   "outputs": [],
   "source": []
  },
  {
   "cell_type": "code",
   "execution_count": null,
   "metadata": {},
   "outputs": [],
   "source": []
  },
  {
   "cell_type": "code",
   "execution_count": null,
   "metadata": {},
   "outputs": [],
   "source": []
  },
  {
   "cell_type": "markdown",
   "metadata": {},
   "source": [
    "<script>\n",
    "  $(document).ready(function(){\n",
    "    $('div.prompt').hide();\n",
    "    $('div.back-to-top').hide();\n",
    "    $('nav#menubar').hide();\n",
    "    $('.breadcrumb').hide();\n",
    "    $('.hidden-print').hide();\n",
    "  });\n",
    "</script>\n",
    "\n",
    "<footer id=\"attribution\" style=\"float:right; color:#808080; background:#fff;\">\n",
    "Created with Jupyter by Esteban Jiménez Rodríguez.\n",
    "</footer>"
   ]
  }
 ],
 "metadata": {
  "kernelspec": {
   "display_name": "mebo2024_v4",
   "language": "python",
   "name": "python3"
  },
  "language_info": {
   "codemirror_mode": {
    "name": "ipython",
    "version": 3
   },
   "file_extension": ".py",
   "mimetype": "text/x-python",
   "name": "python",
   "nbconvert_exporter": "python",
   "pygments_lexer": "ipython3",
   "version": "3.9.19"
  }
 },
 "nbformat": 4,
 "nbformat_minor": 2
}
